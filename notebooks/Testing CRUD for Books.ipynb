{
 "cells": [
  {
   "cell_type": "code",
   "execution_count": 1,
   "id": "d78a04ec",
   "metadata": {},
   "outputs": [],
   "source": [
    "import os\n",
    "import uuid\n",
    "import requests"
   ]
  },
  {
   "cell_type": "code",
   "execution_count": 2,
   "id": "f6134921",
   "metadata": {},
   "outputs": [],
   "source": [
    "PORT = int(os.environ.get(\"PORT\", 8000))\n",
    "BASE_URL = f\"http://localhost:{PORT}\""
   ]
  },
  {
   "cell_type": "code",
   "execution_count": 3,
   "id": "53b3ab4c",
   "metadata": {},
   "outputs": [],
   "source": [
    "def test_response(method, endpoint, data=None):\n",
    "    if method == \"POST\" and len(data) > 0:\n",
    "        r = requests.post(endpoint, json=dict(data))\n",
    "    elif method == \"GET\":\n",
    "        r = requests.get(endpoint)\n",
    "    status_code = r.status_code\n",
    "    response = r.json()\n",
    "    return {\n",
    "        \"status_code\":status_code,\n",
    "        \"response\": response\n",
    "    }"
   ]
  },
  {
   "cell_type": "code",
   "execution_count": 10,
   "id": "830b4e07",
   "metadata": {},
   "outputs": [],
   "source": [
    "method = \"POST\"\n",
    "\n",
    "SLUG = \"bro-code\"\n",
    "\n",
    "URL = f\"books/{SLUG}/delete\"\n",
    "endpoint = f\"{BASE_URL}/{URL}/\""
   ]
  },
  {
   "cell_type": "code",
   "execution_count": 11,
   "id": "289d75a0",
   "metadata": {},
   "outputs": [],
   "source": [
    "data = {\n",
    "    \"title\": \"Coding is Nice!\",\n",
    "    \"id\": str(uuid.uuid4()),\n",
    "}"
   ]
  },
  {
   "cell_type": "code",
   "execution_count": 12,
   "id": "858bb4b5",
   "metadata": {},
   "outputs": [
    {
     "name": "stdout",
     "output_type": "stream",
     "text": [
      "{'status_code': 200, 'response': '2022-03-24T14:07:03.710927+00:00'}\n"
     ]
    }
   ],
   "source": [
    "print(test_response(endpoint=endpoint, method=method, data=data))"
   ]
  },
  {
   "cell_type": "code",
   "execution_count": null,
   "id": "ee02e227",
   "metadata": {},
   "outputs": [],
   "source": []
  }
 ],
 "metadata": {
  "kernelspec": {
   "display_name": "Python 3 (ipykernel)",
   "language": "python",
   "name": "python3"
  },
  "language_info": {
   "codemirror_mode": {
    "name": "ipython",
    "version": 3
   },
   "file_extension": ".py",
   "mimetype": "text/x-python",
   "name": "python",
   "nbconvert_exporter": "python",
   "pygments_lexer": "ipython3",
   "version": "3.9.5"
  }
 },
 "nbformat": 4,
 "nbformat_minor": 5
}
