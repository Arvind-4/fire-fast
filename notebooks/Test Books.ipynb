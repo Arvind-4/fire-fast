{
 "cells": [
  {
   "cell_type": "code",
   "execution_count": 9,
   "id": "a96f5642",
   "metadata": {},
   "outputs": [],
   "source": [
    "import os\n",
    "import uuid\n",
    "import requests"
   ]
  },
  {
   "cell_type": "code",
   "execution_count": 10,
   "id": "dcf09e2e",
   "metadata": {},
   "outputs": [],
   "source": [
    "PORT = int(os.environ.get(\"PORT\", 8000))\n",
    "BASE_URL = f\"http://localhost:{PORT}\""
   ]
  },
  {
   "cell_type": "code",
   "execution_count": 11,
   "id": "7104a10c",
   "metadata": {},
   "outputs": [],
   "source": [
    "def test_response(method, endpoint, data=None):\n",
    "    if method == \"POST\" and len(data) > 0:\n",
    "        r = requests.post(endpoint, json=dict(data))\n",
    "    elif method == \"GET\":\n",
    "        r = requests.get(endpoint)\n",
    "    status_code = r.status_code\n",
    "    response = r.json()\n",
    "    return {\n",
    "        \"status_code\":status_code,\n",
    "        \"response\": response\n",
    "    }"
   ]
  },
  {
   "cell_type": "code",
   "execution_count": 27,
   "id": "bf7a5609",
   "metadata": {},
   "outputs": [],
   "source": [
    "method = \"POST\"\n",
    "\n",
    "URL = \"books/create\"\n",
    "endpoint = f\"{BASE_URL}/{URL}/\""
   ]
  },
  {
   "cell_type": "code",
   "execution_count": 38,
   "id": "00c5276c",
   "metadata": {},
   "outputs": [],
   "source": [
    "data = {\n",
    "    \"title\": \"Arvind is Nice\",\n",
    "    \"id\": str(uuid.uuid4()),\n",
    "}"
   ]
  },
  {
   "cell_type": "code",
   "execution_count": 40,
   "id": "5d00ad7a",
   "metadata": {},
   "outputs": [
    {
     "name": "stdout",
     "output_type": "stream",
     "text": [
      "{'status_code': 200, 'response': {'title': 'Arvind is Nice', 'id': '7d5c1d94-4aa7-45a9-a751-7755198b5f94', 'description': None}}\n"
     ]
    }
   ],
   "source": [
    "print(test_response(endpoint=endpoint, method=method, data=data))"
   ]
  },
  {
   "cell_type": "code",
   "execution_count": null,
   "id": "425178f6",
   "metadata": {},
   "outputs": [],
   "source": []
  }
 ],
 "metadata": {
  "kernelspec": {
   "display_name": "Python 3 (ipykernel)",
   "language": "python",
   "name": "python3"
  },
  "language_info": {
   "codemirror_mode": {
    "name": "ipython",
    "version": 3
   },
   "file_extension": ".py",
   "mimetype": "text/x-python",
   "name": "python",
   "nbconvert_exporter": "python",
   "pygments_lexer": "ipython3",
   "version": "3.9.5"
  }
 },
 "nbformat": 4,
 "nbformat_minor": 5
}
